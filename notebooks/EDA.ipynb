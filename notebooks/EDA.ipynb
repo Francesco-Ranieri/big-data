{
 "cells": [
  {
   "cell_type": "markdown",
   "metadata": {},
   "source": [
    "### Install libraries\n"
   ]
  },
  {
   "cell_type": "code",
   "execution_count": null,
   "metadata": {},
   "outputs": [],
   "source": [
    "!pip install -r ../dev-requirements.txt"
   ]
  },
  {
   "cell_type": "markdown",
   "metadata": {},
   "source": [
    "### Load Data"
   ]
  },
  {
   "cell_type": "code",
   "execution_count": null,
   "metadata": {},
   "outputs": [],
   "source": [
    "import pandas as pd\n",
    "import os\n",
    "\n",
    "folder = os.path.join(\"../airflow/assets\")\n",
    "dfs = []\n",
    "for file in os.listdir(folder):\n",
    "    if file.endswith(\".csv\"):\n",
    "        dfs.append(pd.read_csv(os.path.join(folder, file), skiprows=1, parse_dates=['date']))\n",
    "print(dfs.__len__())\n",
    "\n",
    "# For the first dataframe, print summary, info, and head\n",
    "print(dfs[0].describe())\n",
    "print(dfs[0].info())\n",
    "print(dfs[0].head())"
   ]
  },
  {
   "cell_type": "markdown",
   "metadata": {},
   "source": [
    "### Merge all data into one dataframe"
   ]
  },
  {
   "cell_type": "code",
   "execution_count": null,
   "metadata": {},
   "outputs": [],
   "source": [
    "import pandas as pd\n",
    "\n",
    "# Step 1: Convert \"date\" column to datetime in all dataframes\n",
    "for df in dfs:\n",
    "    df['date'] = pd.to_datetime(df['date'], format='%Y-%m-%d %H:%M:%S', errors=\"coerce\")\n",
    "\n",
    "# Step 2: Find the oldest and newest dates across all dataframes\n",
    "all_dates = [df['date'] for df in dfs]\n",
    "all_dates_flat = [date for sublist in all_dates for date in sublist if not pd.isnull(date)]\n",
    "\n",
    "oldest_date = min(all_dates_flat)\n",
    "newest_date = max(all_dates_flat)\n",
    "\n",
    "# Step 3: Create a new dataframe with the date range\n",
    "date_range = pd.date_range(start=oldest_date, end=newest_date, freq='H')  # Hourly frequency\n",
    "merged_df = pd.DataFrame({'date': date_range})\n",
    "\n",
    "# Step 4: Add \"close\" columns from each dataframe to the merged_df using list comprehension\n",
    "for df in dfs:\n",
    "    try:\n",
    "        ticker = df['symbol'].iloc[0]  # Assuming each dataframe has a \"ticker\" column\n",
    "        close_col_name = f'close_{ticker}'\n",
    "\n",
    "        df = df.set_index('date').sort_index()\n",
    "        df = df[~df.index.duplicated(keep='first')].reindex(date_range, method='ffill')\n",
    "\n",
    "        # Create a DataFrame with the \"date\" and \"close\" columns\n",
    "        close_data = df[df.index.isin(date_range)][['close']]\n",
    "        close_data.rename(columns={'close': close_col_name}, inplace=True)\n",
    "\n",
    "        # Merge the \"close_data\" into the \"merged_df\"\n",
    "        merged_df = pd.merge(merged_df, close_data, left_on='date', right_index=True, how='left')\n",
    "    except ValueError as e:\n",
    "        print(f'Error on coin {ticker}: {e}')\n",
    "\n",
    "\n",
    "# Now, merged_df contains the desired data with the date range and \"close_{ticker}\" columns, with missing hours filled.\n"
   ]
  },
  {
   "cell_type": "markdown",
   "metadata": {},
   "source": [
    "### Plot the timeseries and the scaled timeseries"
   ]
  },
  {
   "cell_type": "code",
   "execution_count": null,
   "metadata": {},
   "outputs": [],
   "source": [
    "import matplotlib.pyplot as plt\n",
    "import seaborn as sns\n",
    "\n",
    "# Create subplots with vertical space using Seaborn\n",
    "plt.figure(figsize=(20, 20))\n",
    "grid = plt.GridSpec(8, 3, hspace=1.5)  # Adjust the value of hspace as needed\n",
    "\n",
    "for i, col in enumerate(merged_df.columns[1:]):\n",
    "    ax = plt.subplot(grid[i // 3, i % 3])\n",
    "    sns.lineplot(data=merged_df, x=\"date\", y=col, ax=ax)\n",
    "    ax.set_title(col)\n",
    "\n",
    "    # Rotate x-axis labels to an oblique angle\n",
    "    plt.xticks(rotation=45)  # You can adjust the angle as needed\n",
    "\n",
    "    # Set x-axis limits to display the full date range\n",
    "    ax.set_xlim(merged_df['date'].min(), merged_df['date'].max())\n",
    "\n",
    "plt.show()\n",
    "\n",
    "import matplotlib.pyplot as plt\n",
    "import seaborn as sns\n",
    "import pandas as pd\n",
    "\n",
    "# Create a custom Min-Max scaling function\n",
    "def custom_min_max_scaling(column):\n",
    "    min_val = column.min()\n",
    "    max_val = column.max()\n",
    "    scaled_column = (column - min_val) / (max_val - min_val)\n",
    "    return scaled_column\n",
    "\n",
    "# Scale the numeric columns in the DataFrame (excluding 'date')\n",
    "numeric_cols = merged_df.columns[1:]\n",
    "scaled_df = merged_df.copy()\n",
    "scaled_df[numeric_cols] = scaled_df[numeric_cols].apply(custom_min_max_scaling, axis=0)\n",
    "\n",
    "# Create subplots with vertical space using Seaborn\n",
    "plt.figure(figsize=(20, 20))\n",
    "grid = plt.GridSpec(8, 3, hspace=1.5)  # Adjust the value of hspace as needed\n",
    "\n",
    "for i, col in enumerate(scaled_df.columns[1:]):\n",
    "    ax = plt.subplot(grid[i // 3, i % 3])\n",
    "    sns.lineplot(data=scaled_df, x=\"date\", y=col, ax=ax)\n",
    "    ax.set_title(col)\n",
    "\n",
    "    # Rotate x-axis labels to an oblique angle\n",
    "    plt.xticks(rotation=45)  # You can adjust the angle as needed\n",
    "\n",
    "    # Set x-axis limits to display the full date range\n",
    "    ax.set_xlim(merged_df['date'].min(), merged_df['date'].max())\n",
    "\n",
    "\n",
    "# Display the plots\n",
    "plt.show()"
   ]
  }
 ],
 "metadata": {
  "kernelspec": {
   "display_name": "venv",
   "language": "python",
   "name": "python3"
  },
  "language_info": {
   "codemirror_mode": {
    "name": "ipython",
    "version": 3
   },
   "file_extension": ".py",
   "mimetype": "text/x-python",
   "name": "python",
   "nbconvert_exporter": "python",
   "pygments_lexer": "ipython3",
   "version": "3.10.13"
  },
  "orig_nbformat": 4
 },
 "nbformat": 4,
 "nbformat_minor": 2
}
