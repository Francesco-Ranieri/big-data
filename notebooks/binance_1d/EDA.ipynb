{
 "cells": [
  {
   "cell_type": "markdown",
   "metadata": {},
   "source": [
    "### Install libraries\n"
   ]
  },
  {
   "cell_type": "code",
   "execution_count": null,
   "metadata": {},
   "outputs": [],
   "source": [
    "!pip install -r ../dev-requirements.txt"
   ]
  },
  {
   "cell_type": "markdown",
   "metadata": {},
   "source": [
    "### Load Data"
   ]
  },
  {
   "cell_type": "code",
   "execution_count": null,
   "metadata": {},
   "outputs": [],
   "source": [
    "import pandas as pd\n",
    "import os\n",
    "\n",
    "folder = os.path.join(\"../data/binance/1d\")\n",
    "dfs = []\n",
    "for file in os.listdir(folder):\n",
    "    if file.endswith(\".csv\"):\n",
    "        dfs.append(pd.read_csv(os.path.join(folder, file), skiprows=1))\n",
    "print(dfs.__len__())\n",
    "\n",
    "# For the first dataframe, print summary, info, and head\n",
    "print(dfs[0].describe())\n",
    "print(dfs[0].info())\n",
    "print(dfs[0].head())"
   ]
  },
  {
   "cell_type": "markdown",
   "metadata": {},
   "source": [
    "### Merge all data into one dataframe"
   ]
  },
  {
   "cell_type": "code",
   "execution_count": null,
   "metadata": {},
   "outputs": [],
   "source": [
    "import pandas as pd\n",
    "\n",
    "# Step 1: Convert \"date\" column to datetime in all dataframes\n",
    "for df in dfs:\n",
    "    df['Date'] = pd.to_datetime(df['Date'], format='%Y-%m-%d', errors=\"coerce\")\n",
    "\n",
    "# Step 2: Find the oldest and newest dates across all dataframes\n",
    "all_dates = [df['Date'] for df in dfs]\n",
    "all_dates_flat = [date for sublist in all_dates for date in sublist if not pd.isnull(date)]\n",
    "\n",
    "oldest_date = '2019-01-01'\n",
    "newest_date = max(all_dates_flat)\n",
    "\n",
    "# Step 3: Create a new dataframe with the date range\n",
    "date_range = pd.date_range(start=oldest_date, end=newest_date, freq='D')  # Daily frequency\n",
    "merged_df = pd.DataFrame({'Date': date_range})\n",
    "\n",
    "# Step 4: Add \"close\" and \"Volume USDT\" columns from each dataframe to the merged_df using list comprehension\n",
    "for df in dfs:\n",
    "    try:\n",
    "        ticker = df['Symbol'].iloc[0]  # Assuming each dataframe has a \"symbol\" column\n",
    "        close_col_name = f'close_{ticker}'\n",
    "        volume_col_name = f'Volume USDT_{ticker}'  # Replace with the actual column name if it's different in your data\n",
    "\n",
    "        df = df.set_index('Date').sort_index()\n",
    "\n",
    "        # Create DataFrames with the \"date\" and \"close\" columns\n",
    "        close_data = df[df.index.isin(date_range)][['Close']]\n",
    "        close_data.rename(columns={'Close': close_col_name}, inplace=True)\n",
    "\n",
    "        # Merge the \"close_data\" into the \"merged_df\"\n",
    "        merged_df = pd.merge(merged_df, close_data, left_on='Date', right_index=True, how='left')\n",
    "\n",
    "        # Add the \"Volume USDT\" column to the merged_df (replace 'Volume USDT' with the actual column name if it's different)\n",
    "        # merged_df[volume_col_name] = df['Volume USDT']\n",
    "\n",
    "    except ValueError as e:\n",
    "        print(f'Error on coin {ticker}: {e}')\n",
    "\n",
    "\n",
    "# print number of columns -1 of merged_df\n",
    "print(merged_df.columns.__len__()-1)"
   ]
  },
  {
   "cell_type": "code",
   "execution_count": null,
   "metadata": {},
   "outputs": [],
   "source": [
    "# drop columns with NaN values\n",
    "merged_df.dropna(axis=1, inplace=True)\n",
    "print(merged_df.columns.__len__()-1)"
   ]
  },
  {
   "cell_type": "code",
   "execution_count": null,
   "metadata": {},
   "outputs": [],
   "source": [
    "# copy the files of the merged_df columns to airflow/assets\n",
    "columns = [col.replace(\"close_\", \"\") for col in merged_df.columns[1:]]\n",
    "for col in columns:\n",
    "    os.system(f\"cp ../data/binance/1d/Binance_{col}_d.csv ../airflow/assets/{col}.csv\")"
   ]
  },
  {
   "cell_type": "markdown",
   "metadata": {},
   "source": [
    "### Plot the timeseries and the scaled timeseries"
   ]
  },
  {
   "cell_type": "code",
   "execution_count": null,
   "metadata": {},
   "outputs": [],
   "source": [
    "import matplotlib.pyplot as plt\n",
    "import seaborn as sns\n",
    "import math\n",
    "# Create subplots with vertical space using Seaborn\n",
    "chart_rows = math.ceil((merged_df.columns.__len__() - 1) / 3)\n",
    "plt.figure(figsize=(5*chart_rows, 20))\n",
    "grid = plt.GridSpec(chart_rows, 3, hspace=1.5)  # Adjust the value of hspace as needed\n",
    "\n",
    "for i, col in enumerate(merged_df.columns[1:]):\n",
    "    ax = plt.subplot(grid[i // 3, i % 3])\n",
    "    sns.lineplot(data=merged_df, x=\"Date\", y=col, ax=ax)\n",
    "    ax.set_title(col)\n",
    "\n",
    "    # Rotate x-axis labels to an oblique angle\n",
    "    plt.xticks(rotation=45)  # You can adjust the angle as needed\n",
    "\n",
    "    # Set x-axis limits to display the full date range\n",
    "    ax.set_xlim(merged_df['Date'].min(), merged_df['Date'].max())\n",
    "\n",
    "plt.show()\n",
    "\n",
    "import matplotlib.pyplot as plt\n",
    "import seaborn as sns\n",
    "import pandas as pd\n",
    "\n",
    "# Create a custom Min-Max scaling function\n",
    "def custom_min_max_scaling(column):\n",
    "    min_val = column.min()\n",
    "    max_val = column.max()\n",
    "    scaled_column = (column - min_val) / (max_val - min_val)\n",
    "    return scaled_column\n",
    "\n",
    "# Scale the numeric columns in the DataFrame (excluding 'date')\n",
    "numeric_cols = merged_df.columns[1:]\n",
    "scaled_df = merged_df.copy()\n",
    "scaled_df[numeric_cols] = scaled_df[numeric_cols].apply(custom_min_max_scaling, axis=0)\n",
    "\n",
    "# Create subplots with vertical space using Seaborn\n",
    "plt.figure(figsize=(20, 20))\n",
    "grid = plt.GridSpec(8, 3, hspace=1.5)  # Adjust the value of hspace as needed\n",
    "\n",
    "for i, col in enumerate(scaled_df.columns[1:]):\n",
    "    ax = plt.subplot(grid[i // 3, i % 3])\n",
    "    sns.lineplot(data=scaled_df, x=\"Date\", y=col, ax=ax)\n",
    "    ax.set_title(col)\n",
    "\n",
    "    # Rotate x-axis labels to an oblique angle\n",
    "    plt.xticks(rotation=45)  # You can adjust the angle as needed\n",
    "\n",
    "    # Set x-axis limits to display the full date range\n",
    "    ax.set_xlim(merged_df['Date'].min(), merged_df['Date'].max())\n",
    "\n",
    "\n",
    "# Display the plots\n",
    "plt.show()"
   ]
  }
 ],
 "metadata": {
  "kernelspec": {
   "display_name": "venv",
   "language": "python",
   "name": "python3"
  },
  "language_info": {
   "codemirror_mode": {
    "name": "ipython",
    "version": 3
   },
   "file_extension": ".py",
   "mimetype": "text/x-python",
   "name": "python",
   "nbconvert_exporter": "python",
   "pygments_lexer": "ipython3",
   "version": "3.9.18"
  },
  "orig_nbformat": 4
 },
 "nbformat": 4,
 "nbformat_minor": 2
}
