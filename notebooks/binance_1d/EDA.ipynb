{
 "cells": [
  {
   "cell_type": "markdown",
   "metadata": {},
   "source": [
    "### Install libraries\n"
   ]
  },
  {
   "cell_type": "code",
   "execution_count": null,
   "metadata": {},
   "outputs": [],
   "source": [
    "!pip install -r ../dev-requirements.txt"
   ]
  },
  {
   "cell_type": "code",
   "execution_count": null,
   "metadata": {},
   "outputs": [],
   "source": [
    "from common import get_dataframe, register_training_experiment\n",
    "merged_df = get_dataframe()"
   ]
  },
  {
   "cell_type": "code",
   "execution_count": null,
   "metadata": {},
   "outputs": [],
   "source": [
    "# drop columns with NaN values\n",
    "merged_df.dropna(axis=1, inplace=True)\n",
    "print(merged_df.columns.__len__()-1)"
   ]
  },
  {
   "cell_type": "code",
   "execution_count": null,
   "metadata": {},
   "outputs": [],
   "source": [
    "# # copy the files of the merged_df columns to airflow/assets\n",
    "# columns = [col.replace(\"close_\", \"\") for col in merged_df.columns[1:]]\n",
    "# for col in columns:\n",
    "#     os.system(f\"cp ../data/binance_1d/Binance_{col}_d.csv ../airflow/assets/binance_1d/{col}.csv\")"
   ]
  },
  {
   "cell_type": "markdown",
   "metadata": {},
   "source": [
    "### Plot the timeseries and the scaled timeseries"
   ]
  },
  {
   "cell_type": "code",
   "execution_count": null,
   "metadata": {},
   "outputs": [],
   "source": [
    "import mlflow\n",
    "mlflow.set_experiment(\"EDA binance_1d\")\n",
    "run = mlflow.start_run()"
   ]
  },
  {
   "cell_type": "code",
   "execution_count": null,
   "metadata": {},
   "outputs": [],
   "source": [
    "import matplotlib.pyplot as plt\n",
    "import seaborn as sns\n",
    "import math\n",
    "# Create subplots with vertical space using Seaborn\n",
    "chart_rows = math.ceil((merged_df.columns.__len__() - 1) / 3)\n",
    "plt.figure(figsize=(5*chart_rows, 20))\n",
    "grid = plt.GridSpec(chart_rows, 3, hspace=1.5)  # Adjust the value of hspace as needed\n",
    "\n",
    "for i, col in enumerate(merged_df.columns[1:]):\n",
    "    ax = plt.subplot(grid[i // 3, i % 3])\n",
    "    sns.lineplot(data=merged_df, x=\"Date\", y=col, ax=ax)\n",
    "    ax.set_title(col)\n",
    "\n",
    "    # Rotate x-axis labels to an oblique angle\n",
    "    plt.xticks(rotation=45)  # You can adjust the angle as needed\n",
    "\n",
    "    # Set x-axis limits to display the full date range\n",
    "    ax.set_xlim(merged_df['Date'].min(), merged_df['Date'].max())\n",
    "\n",
    "plt.savefig(\"fig.png\")\n",
    "plt.show()\n",
    "mlflow.log_artifact(\"fig.png\", \"time series\")\n",
    "\n",
    "\n",
    "# Create a custom Min-Max scaling function\n",
    "def custom_min_max_scaling(column):\n",
    "    min_val = column.min()\n",
    "    max_val = column.max()\n",
    "    scaled_column = (column - min_val) / (max_val - min_val)\n",
    "    return scaled_column\n",
    "\n",
    "# Scale the numeric columns in the DataFrame (excluding 'date')\n",
    "numeric_cols = merged_df.columns[1:]\n",
    "scaled_df = merged_df.copy()\n",
    "scaled_df[numeric_cols] = scaled_df[numeric_cols].apply(custom_min_max_scaling, axis=0)\n",
    "\n",
    "# Create subplots with vertical space using Seaborn\n",
    "plt.figure(figsize=(20, 20))\n",
    "grid = plt.GridSpec(8, 3, hspace=1.5)  # Adjust the value of hspace as needed\n",
    "\n",
    "for i, col in enumerate(scaled_df.columns[1:]):\n",
    "    ax = plt.subplot(grid[i // 3, i % 3])\n",
    "    sns.lineplot(data=scaled_df, x=\"Date\", y=col, ax=ax)\n",
    "    ax.set_title(col)\n",
    "\n",
    "    # Rotate x-axis labels to an oblique angle\n",
    "    plt.xticks(rotation=45)  # You can adjust the angle as needed\n",
    "\n",
    "    # Set x-axis limits to display the full date range\n",
    "    ax.set_xlim(merged_df['Date'].min(), merged_df['Date'].max())\n",
    "\n",
    "\n",
    "# Display the plots\n",
    "plt.savefig(\"fig.png\")\n",
    "plt.show()\n",
    "mlflow.log_artifact(\"fig.png\")\n"
   ]
  },
  {
   "cell_type": "markdown",
   "metadata": {},
   "source": [
    "### Perform PACF"
   ]
  },
  {
   "cell_type": "code",
   "execution_count": null,
   "metadata": {},
   "outputs": [],
   "source": [
    "# Plot PACF for each column of merged_df except the date column using plot_pacf\n",
    "\n",
    "import matplotlib.pyplot as plt\n",
    "import seaborn as sns\n",
    "import pandas as pd\n",
    "from statsmodels.graphics.tsaplots import plot_pacf\n",
    "\n",
    "\n",
    "# remove the date column in a copy of the scaled_df\n",
    "data = merged_df.copy()\n",
    "data.drop(columns=[\"Date\"], inplace=True)\n",
    "\n",
    "for i, col in enumerate(data.columns):\n",
    "    # Plot PACF for the column\n",
    "    plot_pacf(merged_df.iloc[:, i], lags=20, alpha=0.05)\n",
    "    plt.title(col)\n",
    "    plt.show()\n",
    "    plt.savefig(\"fig.png\")\n",
    "    mlflow.log_artifact(\"fig.png\", f\"PACF {col}\")\n"
   ]
  },
  {
   "cell_type": "code",
   "execution_count": null,
   "metadata": {},
   "outputs": [],
   "source": [
    "run.end_run()"
   ]
  },
  {
   "cell_type": "markdown",
   "metadata": {},
   "source": [
    "### Stationary test"
   ]
  },
  {
   "cell_type": "code",
   "execution_count": null,
   "metadata": {},
   "outputs": [],
   "source": [
    "from statsmodels.tsa.stattools import adfuller\n",
    "\n",
    "def adfuller_test(time_series, significance_level=0.05):\n",
    "    \"\"\"\n",
    "    Perform Augmented Dickey-Fuller (ADF) test for stationarity.\n",
    "\n",
    "    Parameters:\n",
    "    - time_series: A pandas Series or NumPy array containing the time series data.\n",
    "    - significance_level: The significance level for the test (default is 0.05).\n",
    "\n",
    "    Returns:\n",
    "    - ADF test result and p-value.\n",
    "    - A string indicating the stationarity based on the p-value.\n",
    "    \"\"\"\n",
    "\n",
    "    result = adfuller(time_series)\n",
    "    adf_statistic = result[0]\n",
    "    p_value = result[1]\n",
    "\n",
    "    if p_value <= significance_level:\n",
    "        stationarity = \"Stationary (p <= {0})\".format(significance_level)\n",
    "    else:\n",
    "        stationarity = \"Non-Stationary (p > {0})\".format(significance_level)\n",
    "\n",
    "    return adf_statistic, p_value, stationarity"
   ]
  },
  {
   "cell_type": "code",
   "execution_count": null,
   "metadata": {},
   "outputs": [],
   "source": [
    "import pandas as pd\n",
    "import matplotlib.pyplot as plt\n",
    "\n",
    "def calculate_and_plot_price_changes(_data, column_name, window_size=10):\n",
    "    \"\"\"\n",
    "    Calculate and plot first-order percentage differences, rolling mean, and rolling standard deviation.\n",
    "\n",
    "    Parameters:\n",
    "    - data: A pandas DataFrame containing a 'date' index and the specified cryptocurrency price column.\n",
    "    - column_name: The name of the column representing cryptocurrency prices.\n",
    "    - window_size: The window size for the rolling statistics (default is 10).\n",
    "\n",
    "    Returns:\n",
    "    - None (plots the results).\n",
    "    \"\"\"\n",
    "    \n",
    "    data = _data.copy()\n",
    "    if 'Date' not in data.columns:\n",
    "        raise ValueError(\"The 'data' DataFrame must contain a 'date' column as the index.\")\n",
    "\n",
    "    if column_name not in data.columns:\n",
    "        raise ValueError(f\"The specified column '{column_name}' is not found in the DataFrame.\")\n",
    "    \n",
    "    # Calculate daily percentage changes\n",
    "    data['PriceChange'] = data[column_name].pct_change() * 100\n",
    "\n",
    "    # Calculate rolling mean and rolling standard deviation\n",
    "    data['RollingMean'] = data['PriceChange'].rolling(window=window_size).mean()\n",
    "    data['RollingStd'] = data['PriceChange'].rolling(window=window_size).std()\n",
    "\n",
    "    # Plot the results\n",
    "    plt.figure(figsize=(12, 6))\n",
    "    plt.plot(data.index, data['PriceChange'], label='Price Change (%)', color='blue')\n",
    "    plt.plot(data.index, data['RollingMean'], label=f'Rolling Mean ({window_size}-hour)', color='green')\n",
    "    plt.plot(data.index, data['RollingStd'], label=f'Rolling Std Deviation ({window_size}-hour)', color='red')\n",
    "\n",
    "    plt.xlabel('Date')\n",
    "    plt.ylabel('Percentage Change / Rolling Statistics')\n",
    "    plt.title(f'{column_name} Price Changes and Rolling Statistics')\n",
    "    plt.legend()\n",
    "    plt.grid(True)\n",
    "\n",
    "    plt.show()"
   ]
  },
  {
   "cell_type": "code",
   "execution_count": null,
   "metadata": {},
   "outputs": [],
   "source": [
    "for cripto in merged_df.columns[1:]:\n",
    "    print(f'Analyzing: {cripto}')\n",
    "\n",
    "    adf_statistic, p_value, stationarity = adfuller_test(merged_df[cripto])\n",
    "    print(\"ADF Statistic:\", adf_statistic)\n",
    "    print(\"p-value:\", p_value)\n",
    "    print(\"Stationarity:\", stationarity)\n",
    "\n",
    "    calculate_and_plot_price_changes(merged_df[['Date',cripto]], cripto)\n",
    "    print(\"\\n\")\n",
    "    print(\"\\n---------------------------------\\n\")"
   ]
  }
 ],
 "metadata": {
  "kernelspec": {
   "display_name": "venv",
   "language": "python",
   "name": "python3"
  },
  "language_info": {
   "codemirror_mode": {
    "name": "ipython",
    "version": 3
   },
   "file_extension": ".py",
   "mimetype": "text/x-python",
   "name": "python",
   "nbconvert_exporter": "python",
   "pygments_lexer": "ipython3",
   "version": "3.11.5"
  },
  "orig_nbformat": 4
 },
 "nbformat": 4,
 "nbformat_minor": 2
}
