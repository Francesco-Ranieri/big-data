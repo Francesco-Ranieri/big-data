{
 "cells": [
  {
   "cell_type": "code",
   "execution_count": null,
   "metadata": {},
   "outputs": [],
   "source": [
    "import sys\n",
    "sys.path.append('../')"
   ]
  },
  {
   "cell_type": "markdown",
   "metadata": {},
   "source": [
    "### Run the optimization"
   ]
  },
  {
   "cell_type": "code",
   "execution_count": null,
   "metadata": {},
   "outputs": [],
   "source": [
    "import os\n",
    "\n",
    "import numpy as np\n",
    "from common import (evaluate_best_coin, get_clustered_dataframes, objective)\n",
    "\n",
    "import mlflow\n",
    "import optuna\n",
    "\n",
    "os.environ[\"MLFLOW_TRACKING_URI\"] = \"http://localhost:5000\"\n",
    "mlflow.set_experiment('Training_LSTM_RNN_Cluster')\n",
    "\n",
    "# Normalize the data to the range [0, 1] to help the LSTM model converge faster\n",
    "\n",
    "clusters_data = get_clustered_dataframes()\n",
    "\n",
    "for cluster, data in clusters_data.items():\n",
    "    print(f\"Cluster {cluster}\")\n",
    "    data = data.drop(columns=['Date'])\n",
    "    criptos = ','.join(data.columns)\n",
    "    data = np.array(data)\n",
    "\n",
    "    study_name = f\"Cluster_{cluster}\"  # Unique identifier of the study.\n",
    "    storage_name = \"sqlite:///training_cluster.db\"\n",
    "    pruner = optuna.pruners.MedianPruner(n_startup_trials=5, n_warmup_steps=10)\n",
    "    study = optuna.create_study(study_name=study_name, direction='minimize', storage=storage_name, pruner=pruner)\n",
    "\n",
    "    # Start the optimization process\n",
    "    study.optimize(lambda trial: objective(trial, data, criptos), n_trials=50)\n",
    "\n",
    "    # Get the best hyperparameters\n",
    "    try:\n",
    "        best_params = study.best_params\n",
    "        print(\"Best Hyperparameters:\", best_params)\n",
    "        evaluate_best_coin(criptos, data, best_params)\n",
    "    except ValueError:\n",
    "        print(\"No best hyperparameters found\")"
   ]
  }
 ],
 "metadata": {
  "kernelspec": {
   "display_name": "price-oracle",
   "language": "python",
   "name": "python3"
  },
  "language_info": {
   "codemirror_mode": {
    "name": "ipython",
    "version": 3
   },
   "file_extension": ".py",
   "mimetype": "text/x-python",
   "name": "python",
   "nbconvert_exporter": "python",
   "pygments_lexer": "ipython3",
   "version": "3.9.18"
  }
 },
 "nbformat": 4,
 "nbformat_minor": 2
}
