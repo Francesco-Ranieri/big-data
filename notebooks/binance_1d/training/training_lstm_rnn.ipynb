{
 "cells": [
  {
   "cell_type": "code",
   "execution_count": null,
   "metadata": {},
   "outputs": [],
   "source": [
    "import sys\n",
    "sys.path.append('../')"
   ]
  },
  {
   "cell_type": "markdown",
   "metadata": {},
   "source": [
    "### Run the optimization"
   ]
  },
  {
   "cell_type": "code",
   "execution_count": null,
   "metadata": {},
   "outputs": [],
   "source": [
    "import os\n",
    "\n",
    "import numpy as np\n",
    "from common import get_dataframe, evaluate_best_coin, objective\n",
    "\n",
    "import mlflow\n",
    "import optuna\n",
    "\n",
    "os.environ[\"MLFLOW_TRACKING_URI\"] = \"http://localhost:5000\"\n",
    "mlflow.set_experiment('Training_LSTM')\n",
    "\n",
    "# Normalize the data to the range [0, 1] to help the LSTM model converge faster\n",
    "\n",
    "df = get_dataframe()\n",
    "\n",
    "for coin in df.iloc[:, 1:]:\n",
    "    data = np.array(df[coin]).reshape(-1, 1)\n",
    "\n",
    "    # Create an Optuna study\n",
    "    study_name = coin  # Unique identifier of the study.\n",
    "    storage_name = \"sqlite:///training.db\"\n",
    "    pruner = optuna.pruners.MedianPruner(n_startup_trials=5, n_warmup_steps=10)\n",
    "    study = optuna.create_study(study_name=coin, direction='minimize', storage=storage_name, pruner=pruner)\n",
    "\n",
    "    # Start the optimization process\n",
    "    study.optimize(lambda trial: objective(trial, data, coin), n_trials=50)\n",
    "\n",
    "    # Get the best hyperparameters\n",
    "    try:\n",
    "        best_params = study.best_params\n",
    "        print(\"Best Hyperparameters:\", best_params)\n",
    "        evaluate_best_coin(coin, data, best_params)\n",
    "    except ValueError:\n",
    "        print(\"No best hyperparameters found\")"
   ]
  }
 ],
 "metadata": {
  "kernelspec": {
   "display_name": "price-oracle",
   "language": "python",
   "name": "python3"
  },
  "language_info": {
   "codemirror_mode": {
    "name": "ipython",
    "version": 3
   },
   "file_extension": ".py",
   "mimetype": "text/x-python",
   "name": "python",
   "nbconvert_exporter": "python",
   "pygments_lexer": "ipython3",
   "version": "3.9.18"
  }
 },
 "nbformat": 4,
 "nbformat_minor": 2
}
