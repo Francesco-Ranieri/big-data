{
 "cells": [
  {
   "cell_type": "code",
   "execution_count": null,
   "metadata": {},
   "outputs": [],
   "source": [
    "import sys\n",
    "sys.path.append('../')"
   ]
  },
  {
   "cell_type": "markdown",
   "metadata": {},
   "source": [
    "### Run the optimization"
   ]
  },
  {
   "cell_type": "code",
   "execution_count": null,
   "metadata": {},
   "outputs": [],
   "source": [
    "import os\n",
    "\n",
    "import numpy as np\n",
    "from common import get_clustered_dataframes, evaluate_best_coin, objective\n",
    "\n",
    "import mlflow\n",
    "import optuna\n",
    "\n",
    "os.environ[\"MLFLOW_TRACKING_URI\"] = \"http://localhost:5000\"\n",
    "mlflow.set_experiment('Training_LSTM_RNN_Cluster_SMA')\n",
    "\n",
    "# Normalize the data to the range [0, 1] to help the LSTM model converge faster\n",
    "\n",
    "clusters_data = get_clustered_dataframes(add_sma_columns=True)\n",
    "\n",
    "for cluster, df in clusters_data.items():\n",
    "\n",
    "    print(f\"Cluster {cluster}\")\n",
    "    criptos = df.filter(like='close', axis=1).columns\n",
    "    output_shape = len(criptos)\n",
    "    criptos = ','.join([cripto.split(\"_\")[1] for cripto in criptos])\n",
    "\n",
    "    df = df.drop('Date', axis=1)\n",
    "    data = np.array(df)\n",
    "\n",
    "    storage_name = \"sqlite:///training_cluster_sma.db\"\n",
    "    pruner = optuna.pruners.MedianPruner(n_startup_trials=5, n_warmup_steps=10)\n",
    "    study = optuna.create_study(study_name=criptos, direction='minimize', storage=storage_name, pruner=pruner)\n",
    "\n",
    "    # Start the optimization process\n",
    "    study.optimize(lambda trial: objective(trial, data, criptos, output_shape), n_trials=50)\n",
    "\n",
    "    # Get the best hyperparameters\n",
    "    try:\n",
    "        best_params = study.best_params\n",
    "        print(\"Best Hyperparameters:\", best_params)\n",
    "        evaluate_best_coin(criptos, data, best_params, output_shape)\n",
    "    except ValueError:\n",
    "        print(\"No best hyperparameters found\")"
   ]
  }
 ],
 "metadata": {
  "kernelspec": {
   "display_name": "price-oracle",
   "language": "python",
   "name": "python3"
  },
  "language_info": {
   "codemirror_mode": {
    "name": "ipython",
    "version": 3
   },
   "file_extension": ".py",
   "mimetype": "text/x-python",
   "name": "python",
   "nbconvert_exporter": "python",
   "pygments_lexer": "ipython3",
   "version": "3.11.5"
  }
 },
 "nbformat": 4,
 "nbformat_minor": 2
}
