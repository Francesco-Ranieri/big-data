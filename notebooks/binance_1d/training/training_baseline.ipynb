{
 "cells": [
  {
   "cell_type": "code",
   "execution_count": null,
   "metadata": {},
   "outputs": [],
   "source": [
    "import sys\n",
    "sys.path.append('../')"
   ]
  },
  {
   "cell_type": "code",
   "execution_count": null,
   "metadata": {},
   "outputs": [],
   "source": [
    "from common import get_dataframe, register_training_experiment\n",
    "df = get_dataframe()"
   ]
  },
  {
   "cell_type": "code",
   "execution_count": null,
   "metadata": {},
   "outputs": [],
   "source": [
    "import pandas as pd\n",
    "import mlflow\n",
    "\n",
    "mlflow.set_tracking_uri('http://localhost:5001')\n",
    "mlflow.set_experiment('Training BASELINE')\n",
    "\n",
    "for coin in df.columns[1:]:\n",
    "    df_coin = pd.DataFrame({'Date': df['Date'], coin: df[coin]})\n",
    "    df_coin['lag1'] = df_coin[coin].shift(1)\n",
    "    df_coin.dropna(inplace=True)\n",
    "    register_training_experiment(data=df_coin[coin], predictions=df_coin['lag1'], model_name=\"BASELINE\", coin=coin, x_axis=df_coin['Date'])"
   ]
  }
 ],
 "metadata": {
  "kernelspec": {
   "display_name": "venv",
   "language": "python",
   "name": "python3"
  },
  "language_info": {
   "codemirror_mode": {
    "name": "ipython",
    "version": 3
   },
   "file_extension": ".py",
   "mimetype": "text/x-python",
   "name": "python",
   "nbconvert_exporter": "python",
   "pygments_lexer": "ipython3",
   "version": "3.9.18"
  }
 },
 "nbformat": 4,
 "nbformat_minor": 2
}
