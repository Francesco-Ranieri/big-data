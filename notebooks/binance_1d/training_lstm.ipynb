{
 "cells": [
  {
   "cell_type": "markdown",
   "metadata": {},
   "source": [
    "#### Multivariate Time Series Forecasting with Deep Learning\n",
    "\n",
    "[Source 1](https://towardsdatascience.com/multivariate-time-series-forecasting-with-deep-learning-3e7b3e2d2bcf) \\\n",
    "[Source 2](https://machinelearningmastery.com/multivariate-time-series-forecasting-lstms-keras/)"
   ]
  },
  {
   "cell_type": "code",
   "execution_count": null,
   "metadata": {},
   "outputs": [],
   "source": [
    "from common import get_clustered_dataframes\n",
    "\n",
    "clusters_data = get_clustered_dataframes()"
   ]
  },
  {
   "cell_type": "code",
   "execution_count": null,
   "metadata": {},
   "outputs": [],
   "source": [
    "import pandas as pd\n",
    "import numpy as np\n",
    "from sklearn.model_selection import train_test_split\n",
    "from sklearn.metrics import mean_squared_error\n",
    "from math import sqrt\n",
    "\n",
    "def get_train_test_data(cluster_data, n_steps=10, test_size=0.2, shuffle=False):\n",
    "\n",
    "    data = cluster_data.copy() \n",
    "\n",
    "    data['Date'] = pd.to_datetime(data['Date'])  # Convert the 'date' column to datetime\n",
    "\n",
    "    # Sort the data by date\n",
    "    data = data.sort_values(by='Date')\n",
    "\n",
    "    # Create input data by shifting prices to create sequences\n",
    "    X = data.drop(columns=['Date']).values\n",
    "    X_seq = [X[i:i + n_steps] for i in range(len(X) - n_steps)]\n",
    "\n",
    "    # Shift the closing price to predict the next closing price\n",
    "    y = data.drop(columns=['Date']).shift(-n_steps).values\n",
    "\n",
    "    # Split the data into training and testing sets\n",
    "    _X_train, X_test, _y_train, y_test = train_test_split(X_seq, y[:-n_steps], test_size=0.2, shuffle=shuffle)\n",
    "\n",
    "    # split the training set into training and validation sets\n",
    "    X_train, X_valid, y_train, y_valid = train_test_split(_X_train, _y_train, test_size=0.2, shuffle=shuffle)\n",
    "\n",
    "    # Reshape the data to 3D for LSTM\n",
    "    X_train = np.array(X_train)\n",
    "    X_test = np.array(X_test)\n",
    "    X_valid = np.array(X_valid)\n",
    "    y_valid = np.array(y_valid)\n",
    "    y_train = np.array(y_train)\n",
    "    y_test = np.array(y_test)\n",
    "\n",
    "    print('X_train shape:', X_train.shape)\n",
    "    print('y_train shape:', y_train.shape)\n",
    "    print('X_valid shape:', X_valid.shape)\n",
    "    print('y_valid shape:', y_valid.shape)\n",
    "    print('X_test shape:', X_test.shape)\n",
    "    print('y_test shape:', y_test.shape)\n",
    "    print(\"\\n\\n\")\n",
    "\n",
    "    return X_train, X_valid, X_test, y_train, y_valid, y_test"
   ]
  },
  {
   "cell_type": "code",
   "execution_count": null,
   "metadata": {},
   "outputs": [],
   "source": [
    "import tensorflow as tf\n",
    "from sklearn.model_selection import train_test_split\n",
    "from sklearn.metrics import mean_squared_error\n",
    "from math import sqrt\n",
    "import mlflow\n",
    "\n",
    "\n",
    "def calculate_rmse(y_true, y_pred):\n",
    "    return sqrt(mean_squared_error(y_true, y_pred))\n",
    "\n",
    "\n",
    "def build_model(n_steps, n_features):\n",
    "    return tf.keras.Sequential([\n",
    "        tf.keras.layers.LSTM(64, activation='relu', input_shape=(n_steps, n_features), return_sequences=True),\n",
    "        tf.keras.layers.LSTM(64, activation='relu'),\n",
    "        tf.keras.layers.Dense(n_features),\n",
    "        tf.keras.layers.Dense(n_features)\n",
    "    ])\n",
    "\n",
    "\n",
    "def lstm_training(cluster_data, n_steps=10, test_size=0.2, shuffle=False):\n",
    "\n",
    "    data = cluster_data.copy()\n",
    "    X_train, X_valid, X_test, y_train, y_valid, y_test = get_train_test_data(data, n_steps, test_size, shuffle)\n",
    "    \n",
    "    model = build_model(n_steps, X_train.shape[2])\n",
    "    model.compile(optimizer='adam', loss='mse')\n",
    "    model.fit(X_train, y_train, epochs=250, batch_size=32, validation_data=(X_valid, y_valid))\n",
    "\n",
    "    # Make predictions\n",
    "    y_pred = model.predict(X_test)\n",
    "\n",
    "    # Calculate and print RMSE\n",
    "    for i, cripto in enumerate(data.columns[:-1]):\n",
    "        rmse = calculate_rmse(y_test[:, i], y_pred[:, i])\n",
    "        print(f'Root Mean Squared Error (RMSE) for {cripto}: {rmse:.4f}')"
   ]
  },
  {
   "cell_type": "code",
   "execution_count": null,
   "metadata": {},
   "outputs": [],
   "source": [
    "for cluster, cripto in clusters_data.items():\n",
    "    print(f'Cluster {cluster}: {cripto.columns[:-1]}\\n')\n",
    "\n",
    "    lstm_training(cripto, n_steps=2)\n",
    "\n",
    "    print(\"\\n---------------------------------\\n\")"
   ]
  }
 ],
 "metadata": {
  "kernelspec": {
   "display_name": "price-oracle",
   "language": "python",
   "name": "python3"
  },
  "language_info": {
   "codemirror_mode": {
    "name": "ipython",
    "version": 3
   },
   "file_extension": ".py",
   "mimetype": "text/x-python",
   "name": "python",
   "nbconvert_exporter": "python",
   "pygments_lexer": "ipython3",
   "version": "3.11.5"
  }
 },
 "nbformat": 4,
 "nbformat_minor": 2
}
