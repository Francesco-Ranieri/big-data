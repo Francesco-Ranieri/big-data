{
 "cells": [
  {
   "cell_type": "markdown",
   "metadata": {},
   "source": [
    "### Load the data"
   ]
  },
  {
   "cell_type": "code",
   "execution_count": 1,
   "metadata": {},
   "outputs": [
    {
     "name": "stderr",
     "output_type": "stream",
     "text": [
      "2023/10/24 18:57:12 INFO mlflow.tracking.fluent: Experiment with name 'Training_LSTM' does not exist. Creating a new experiment.\n"
     ]
    },
    {
     "data": {
      "text/plain": [
       "<Experiment: artifact_location='mlflow-artifacts:/779043405399066498', creation_time=1698166632525, experiment_id='779043405399066498', last_update_time=1698166632525, lifecycle_stage='active', name='Training_LSTM', tags={}>"
      ]
     },
     "execution_count": 1,
     "metadata": {},
     "output_type": "execute_result"
    }
   ],
   "source": [
    "import os\n",
    "import mlflow\n",
    "\n",
    "os.environ[\"MLFLOW_TRACKING_URI\"] = \"http://localhost:5000\"\n",
    "mlflow.set_experiment('Training_LSTM')"
   ]
  },
  {
   "cell_type": "markdown",
   "metadata": {},
   "source": [
    "### Create the Optuna Objective"
   ]
  },
  {
   "cell_type": "code",
   "execution_count": 2,
   "metadata": {},
   "outputs": [
    {
     "name": "stderr",
     "output_type": "stream",
     "text": [
      "/home/gianfranco/Desktop/uni/price-oracle/venv/lib/python3.9/site-packages/tqdm/auto.py:21: TqdmWarning: IProgress not found. Please update jupyter and ipywidgets. See https://ipywidgets.readthedocs.io/en/stable/user_install.html\n",
      "  from .autonotebook import tqdm as notebook_tqdm\n",
      "2023-10-24 18:57:13.164807: I tensorflow/core/util/port.cc:110] oneDNN custom operations are on. You may see slightly different numerical results due to floating-point round-off errors from different computation orders. To turn them off, set the environment variable `TF_ENABLE_ONEDNN_OPTS=0`.\n",
      "2023-10-24 18:57:13.168274: I tensorflow/tsl/cuda/cudart_stub.cc:28] Could not find cuda drivers on your machine, GPU will not be used.\n",
      "2023-10-24 18:57:13.224220: I tensorflow/tsl/cuda/cudart_stub.cc:28] Could not find cuda drivers on your machine, GPU will not be used.\n",
      "2023-10-24 18:57:13.224944: I tensorflow/core/platform/cpu_feature_guard.cc:182] This TensorFlow binary is optimized to use available CPU instructions in performance-critical operations.\n",
      "To enable the following instructions: AVX2 AVX512F AVX512_VNNI FMA, in other operations, rebuild TensorFlow with the appropriate compiler flags.\n",
      "2023-10-24 18:57:14.168338: W tensorflow/compiler/tf2tensorrt/utils/py_utils.cc:38] TF-TRT Warning: Could not find TensorRT\n"
     ]
    },
    {
     "ename": "ImportError",
     "evalue": "cannot import name 'np' from 'numpy' (/home/gianfranco/Desktop/uni/price-oracle/venv/lib/python3.9/site-packages/numpy/__init__.py)",
     "output_type": "error",
     "traceback": [
      "\u001b[0;31m---------------------------------------------------------------------------\u001b[0m",
      "\u001b[0;31mImportError\u001b[0m                               Traceback (most recent call last)",
      "\u001b[1;32m/home/gianfranco/Desktop/uni/price-oracle/notebooks/binance_1d/training_lstm.ipynb Cell 4\u001b[0m line \u001b[0;36m7\n\u001b[1;32m      <a href='vscode-notebook-cell:/home/gianfranco/Desktop/uni/price-oracle/notebooks/binance_1d/training_lstm.ipynb#W5sZmlsZQ%3D%3D?line=4'>5</a>\u001b[0m \u001b[39mfrom\u001b[39;00m \u001b[39msklearn\u001b[39;00m\u001b[39m.\u001b[39;00m\u001b[39mpreprocessing\u001b[39;00m \u001b[39mimport\u001b[39;00m MinMaxScaler\n\u001b[1;32m      <a href='vscode-notebook-cell:/home/gianfranco/Desktop/uni/price-oracle/notebooks/binance_1d/training_lstm.ipynb#W5sZmlsZQ%3D%3D?line=5'>6</a>\u001b[0m \u001b[39mfrom\u001b[39;00m \u001b[39mtensorflow\u001b[39;00m \u001b[39mimport\u001b[39;00m keras\n\u001b[0;32m----> <a href='vscode-notebook-cell:/home/gianfranco/Desktop/uni/price-oracle/notebooks/binance_1d/training_lstm.ipynb#W5sZmlsZQ%3D%3D?line=6'>7</a>\u001b[0m \u001b[39mfrom\u001b[39;00m \u001b[39mnumpy\u001b[39;00m \u001b[39mimport\u001b[39;00m np\n\u001b[1;32m     <a href='vscode-notebook-cell:/home/gianfranco/Desktop/uni/price-oracle/notebooks/binance_1d/training_lstm.ipynb#W5sZmlsZQ%3D%3D?line=9'>10</a>\u001b[0m \u001b[39mdef\u001b[39;00m \u001b[39mobjective\u001b[39m(trial, data, coin):\n\u001b[1;32m     <a href='vscode-notebook-cell:/home/gianfranco/Desktop/uni/price-oracle/notebooks/binance_1d/training_lstm.ipynb#W5sZmlsZQ%3D%3D?line=10'>11</a>\u001b[0m     \u001b[39mwith\u001b[39;00m mlflow\u001b[39m.\u001b[39mstart_run() \u001b[39mas\u001b[39;00m run:\n",
      "\u001b[0;31mImportError\u001b[0m: cannot import name 'np' from 'numpy' (/home/gianfranco/Desktop/uni/price-oracle/venv/lib/python3.9/site-packages/numpy/__init__.py)"
     ]
    }
   ],
   "source": [
    "import mlflow.keras\n",
    "import optuna\n",
    "from common import OptunaPruneCallback, mean_absolute_percentage_error, create_sequences\n",
    "from sklearn.model_selection import train_test_split\n",
    "from sklearn.preprocessing import MinMaxScaler\n",
    "from tensorflow import keras\n",
    "import numpy as np\n",
    "\n",
    "\n",
    "def objective(trial, data, coin):\n",
    "    with mlflow.start_run() as run:\n",
    "        mlflow.keras.autolog(log_models=False)\n",
    "\n",
    "        # Define the search space for hyperparameters\n",
    "        num_layers = trial.suggest_int('num_layers', 1, 4)\n",
    "        units_per_layer = [trial.suggest_int(f'units_layer_{i}', 32, 256, 32) for i in range(num_layers)]\n",
    "        sequence_length = trial.suggest_int('sequence_length', 5, 20)\n",
    "        learning_rate = trial.suggest_float('learning_rate', 1e-6, 1e-3)\n",
    "        dropout_rate = trial.suggest_float('dropout_rate', 0.0, 0.5)\n",
    "        min_max_scaling = trial.suggest_int('min_max_scaling', 0, 1)\n",
    "        layer_type = trial.suggest_categorical('layer_type', ['LSTM', 'RNN'])\n",
    "\n",
    "        layer_class = keras.layers.LSTM if layer_type == 'LSTM' else keras.layers.SimpleRNN \n",
    "\n",
    "        mlflow.log_params({\n",
    "            'coin': coin,\n",
    "            'num_layers': num_layers,\n",
    "            'units_per_layer': units_per_layer,\n",
    "            'sequence_length': sequence_length,\n",
    "            'learning_rate': learning_rate,\n",
    "            'dropout_rate': dropout_rate,\n",
    "            'min_max_scaling': min_max_scaling\n",
    "        })\n",
    "\n",
    "        if min_max_scaling == 1:\n",
    "            scaler = MinMaxScaler()\n",
    "            data = scaler.fit_transform(np.array(data))\n",
    "\n",
    "        X, y = create_sequences(data, sequence_length)\n",
    "\n",
    "        # Build and compile the LSTM model\n",
    "        model = keras.Sequential()\n",
    "        for units in units_per_layer:\n",
    "            model.add(layer_class(units, activation='relu', return_sequences=True, input_shape=(sequence_length, 1)))\n",
    "            model.add(keras.layers.Dropout(dropout_rate))\n",
    "        model.add(keras.layers.Dense(1))\n",
    "\n",
    "        optimizer = keras.optimizers.Adam(learning_rate=learning_rate, clipvalue=1.0)\n",
    "        model.compile(optimizer=optimizer, loss='mean_squared_error', metrics=[mean_absolute_percentage_error])\n",
    "        # Split the data into training and validation sets\n",
    "        _X_train, X_val, _y_train, y_val = train_test_split(X, y, test_size=0.2, shuffle=False)\n",
    "        X_train, X_test, y_train, y_test = train_test_split(_X_train, _y_train, test_size=0.2, shuffle=False)\n",
    "\n",
    "        # Train the model with early stopping\n",
    "        history = model.fit(\n",
    "            X_train,\n",
    "            y_train,\n",
    "            epochs=50,\n",
    "            batch_size=32,\n",
    "            validation_data=(X_val, y_val), \n",
    "            verbose=0,\n",
    "            callbacks=[OptunaPruneCallback(trial=trial)]\n",
    "        )\n",
    "\n",
    "        # Evaluate the model on the validation set\n",
    "        loss = model.evaluate(X_val, y_val)\n",
    "\n",
    "        return loss[1]"
   ]
  },
  {
   "cell_type": "markdown",
   "metadata": {},
   "source": [
    "### Run the optimization"
   ]
  },
  {
   "cell_type": "code",
   "execution_count": null,
   "metadata": {},
   "outputs": [],
   "source": [
    "import numpy as np\n",
    "\n",
    "def evaluate_best_coin(coin, data, best_params):\n",
    "\n",
    "    # Train the final model with the best hyperparameters\n",
    "    # Define the search space for hyperparameters\n",
    "    num_layers = best_params['num_layers']\n",
    "    units_per_layer = [best_params[f'units_layer_{i}'] for i in range(num_layers)]\n",
    "    sequence_length = best_params['sequence_length']\n",
    "    learning_rate = best_params['learning_rate']\n",
    "    dropout_rate = best_params['dropout_rate']\n",
    "    layer_type = best_params['layer_type']\n",
    "\n",
    "    layer_class = keras.layers.LSTM if layer_type == 'LSTM' else keras.layers.SimpleRNN \n",
    "\n",
    "    X, y = create_sequences(data, sequence_length)\n",
    "    _X_train, X_val, _y_train, y_val = train_test_split(X, y, test_size=0.2, shuffle=False)\n",
    "    X_train, X_test, y_train, y_test = train_test_split(_X_train, _y_train, test_size=0.2, shuffle=False)\n",
    "    # concatenate train and validation sets\n",
    "    X_train = np.concatenate((X_train, X_val))\n",
    "    y_train = np.concatenate((y_train, y_val))\n",
    "\n",
    "    with mlflow.start_run(run_name=f\"Training_{coin}\") as run:\n",
    "        # Build and compile the LSTM model\n",
    "        best_model = keras.Sequential()\n",
    "        for units in units_per_layer:\n",
    "            best_model.add(layer_class(units, activation='relu', return_sequences=True, input_shape=(sequence_length, 1)))\n",
    "            best_model.add(keras.layers.Dropout(dropout_rate))\n",
    "        best_model.add(keras.layers.Dense(1))\n",
    "\n",
    "        optimizer = keras.optimizers.Adam(learning_rate=learning_rate, clipvalue=1.0)\n",
    "        best_model.compile(optimizer=optimizer, loss='mean_squared_error')\n",
    "\n",
    "        best_model.fit(X_train, y_train, epochs=100, batch_size=32)\n",
    "\n",
    "        from common import register_training_experiment\n",
    "        preds = best_model.predict([X_test])\n",
    "        register_training_experiment(y_test, preds)"
   ]
  },
  {
   "cell_type": "code",
   "execution_count": null,
   "metadata": {},
   "outputs": [],
   "source": [
    "import numpy as np\n",
    "from common import get_dataframe\n",
    "\n",
    "# Normalize the data to the range [0, 1] to help the LSTM model converge faster\n",
    "\n",
    "df = get_dataframe()\n",
    "\n",
    "for coin in df.iloc[:, 1:]:\n",
    "    data = np.array(df[coin]).reshape(-1, 1)\n",
    "\n",
    "    # Create an Optuna study\n",
    "    study_name = coin  # Unique identifier of the study.\n",
    "    storage_name = \"sqlite:///training.db\"\n",
    "    pruner = optuna.pruners.MedianPruner(n_startup_trials=5, n_warmup_steps=10)\n",
    "    study = optuna.create_study(study_name=coin, direction='minimize', storage=storage_name, pruner=pruner)\n",
    "\n",
    "    # Start the optimization process\n",
    "    study.optimize(lambda trial: objective(trial, data, coin), n_trials=50)\n",
    "\n",
    "    # Get the best hyperparameters\n",
    "    try:\n",
    "        best_params = study.best_params\n",
    "        print(\"Best Hyperparameters:\", best_params)\n",
    "        evaluate_best_coin(coin, data, best_params)\n",
    "    except ValueError:\n",
    "        print(\"No best hyperparameters found\")"
   ]
  }
 ],
 "metadata": {
  "kernelspec": {
   "display_name": "price-oracle",
   "language": "python",
   "name": "python3"
  },
  "language_info": {
   "codemirror_mode": {
    "name": "ipython",
    "version": 3
   },
   "file_extension": ".py",
   "mimetype": "text/x-python",
   "name": "python",
   "nbconvert_exporter": "python",
   "pygments_lexer": "ipython3",
   "version": "3.9.18"
  }
 },
 "nbformat": 4,
 "nbformat_minor": 2
}
